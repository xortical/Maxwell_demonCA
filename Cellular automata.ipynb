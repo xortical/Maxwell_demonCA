{
 "cells": [
  {
   "cell_type": "code",
   "execution_count": 117,
   "metadata": {},
   "outputs": [],
   "source": [
    "import numpy as np\n",
    "import matplotlib.pyplot as plt\n"
   ]
  },
  {
   "cell_type": "markdown",
   "metadata": {},
   "source": [
    "# wolfram classes\n",
    "\n",
    "Class 1: Homogeneous state\n",
    "Class 2: Periodic\n",
    "Class 3: Chaotic\n",
    "Class 4: Complex"
   ]
  },
  {
   "cell_type": "code",
   "execution_count": 118,
   "metadata": {},
   "outputs": [],
   "source": [
    "class1 = [0,8,32,40,128,136,160,168]\n",
    "class2 = [1,2,3,4,5,6,7,9,10,11,12,13,14,15,19,23,24,25,26,27,28,29,33,34,35,36,37,38,42,43,44,46,50,51,56,57,58,62,72,73,74,76,77,78,94,104,108,130,132,134,138,140,142,152,154,156,162,164,170,172,178,184,200,204,232]\n",
    "class3 = [18,22,30,45,60,90,105,122,126,146,150]\n",
    "class4 = [41,54,106,110]"
   ]
  },
  {
   "cell_type": "markdown",
   "metadata": {},
   "source": [
    "# Rules for the two worlds and their output patterns\n"
   ]
  },
  {
   "cell_type": "code",
   "execution_count": 119,
   "metadata": {},
   "outputs": [],
   "source": [
    "# rule for world1\n",
    "world1 = 115\n",
    "# rule for world2\n",
    "world2 = 90"
   ]
  },
  {
   "cell_type": "code",
   "execution_count": 120,
   "metadata": {},
   "outputs": [],
   "source": [
    "output_pattern1 = [int(x) for x in np.binary_repr(world1,width =8)]\n",
    "output_pattern2 = [int(x) for x in np.binary_repr(world2,width =8)]"
   ]
  },
  {
   "cell_type": "code",
   "execution_count": 121,
   "metadata": {},
   "outputs": [],
   "source": [
    "input_pattern = np.zeros([8,3]) #all binary representations 0 to 7\n",
    "for i in range(8):\n",
    "    input_pattern[i,:] = [int(x) for x in np.binary_repr(7-i,width = 3)]"
   ]
  },
  {
   "cell_type": "markdown",
   "metadata": {},
   "source": [
    "# Size of one world"
   ]
  },
  {
   "cell_type": "code",
   "execution_count": 122,
   "metadata": {},
   "outputs": [],
   "source": [
    "columns = 100\n",
    "rows = int(columns/2)+1"
   ]
  },
  {
   "cell_type": "code",
   "execution_count": 123,
   "metadata": {},
   "outputs": [],
   "source": [
    "#world1\n",
    "canvas1 = np.zeros([rows,columns+2]) \n",
    "#seed world1\n",
    "canvas1[0,int(columns/2)+1] = 1 \n",
    "\n",
    "#world2\n",
    "canvas2 = np.zeros([rows,columns+2])"
   ]
  },
  {
   "cell_type": "markdown",
   "metadata": {},
   "source": [
    "# Pattern generation function"
   ]
  },
  {
   "cell_type": "code",
   "execution_count": 124,
   "metadata": {},
   "outputs": [],
   "source": [
    "def pattern(canvas,output_pattern,rows,columns):\n",
    "    for i in np.arange(0,rows-1):\n",
    "        for j in np.arange(0,columns):\n",
    "            for k in range(8):\n",
    "                if np.array_equal(input_pattern[k,:], canvas[i,j:j+3]):\n",
    "                    canvas[i+1,j+1] = output_pattern[k]\n",
    "    return canvas"
   ]
  },
  {
   "cell_type": "markdown",
   "metadata": {},
   "source": [
    "# Entropy Calculation function"
   ]
  },
  {
   "cell_type": "code",
   "execution_count": 125,
   "metadata": {},
   "outputs": [],
   "source": [
    "def entropy(canvas):\n",
    "    nblack = np.count_nonzero(canvas)\n",
    "    ntotal = np.size(canvas)\n",
    "    nwhite = ntotal-nblack\n",
    "    pblack = nblack/ntotal\n",
    "    pwhite = nwhite/ntotal\n",
    "    \n",
    "    h = -nblack*pblack*np.log10(pblack) - nwhite*pwhite*np.log10(pwhite)\n",
    "    h=h/np.log10(2)\n",
    "    \n",
    "    return h,pblack,pwhite\n",
    "    "
   ]
  },
  {
   "cell_type": "code",
   "execution_count": 126,
   "metadata": {},
   "outputs": [],
   "source": [
    "c1 = pattern(canvas1,output_pattern1,rows,columns)"
   ]
  },
  {
   "cell_type": "code",
   "execution_count": 127,
   "metadata": {},
   "outputs": [],
   "source": [
    "#seed world2 with last line of world1\n",
    "canvas2[0,:] = canvas1[rows-1,:]"
   ]
  },
  {
   "cell_type": "code",
   "execution_count": 128,
   "metadata": {},
   "outputs": [],
   "source": [
    "c2 = pattern(canvas2,output_pattern2,rows,columns)"
   ]
  },
  {
   "cell_type": "code",
   "execution_count": 129,
   "metadata": {},
   "outputs": [
    {
     "data": {
      "image/png": "[encoded data removed]",
      "text/plain": [
       "<Figure size 432x288 with 1 Axes>"
      ]
     },
     "metadata": {},
     "output_type": "display_data"
    },
    {
     "data": {
      "image/png": "[encoded data removed]",
      "text/plain": [
       "<Figure size 432x288 with 1 Axes>"
      ]
     },
     "metadata": {},
     "output_type": "display_data"
    }
   ],
   "source": [
    "plt.imshow(c1[:,1:columns+1], cmap='Greys')\n",
    "plt.title(\"Elementary Cellular Automata Rule{}\".format(world1))\n",
    "plt.show()\n",
    "plt.imshow(c2[:,1:columns+1], cmap='Greys')\n",
    "plt.title(\"Elementary Cellular Automata Rule{}\".format(world2))\n",
    "plt.show()"
   ]
  },
  {
   "cell_type": "code",
   "execution_count": 130,
   "metadata": {},
   "outputs": [],
   "source": [
    "universe = np.concatenate((c1,c2),axis=0)"
   ]
  },
  {
   "cell_type": "code",
   "execution_count": 131,
   "metadata": {},
   "outputs": [
    {
     "data": {
      "image/png": "[encoded data removed]",
      "text/plain": [
       "<Figure size 432x288 with 1 Axes>"
      ]
     },
     "metadata": {},
     "output_type": "display_data"
    }
   ],
   "source": [
    "plt.imshow(universe[:,1:columns+1], cmap='Greys')\n",
    "plt.show()"
   ]
  },
  {
   "cell_type": "code",
   "execution_count": 132,
   "metadata": {},
   "outputs": [
    {
     "data": {
      "text/plain": [
       "(2600.2105667907467, 0.5080738177623991, 0.49192618223760093)"
      ]
     },
     "execution_count": 132,
     "metadata": {},
     "output_type": "execute_result"
    }
   ],
   "source": [
    "entropy(c1)"
   ]
  },
  {
   "cell_type": "code",
   "execution_count": 133,
   "metadata": {},
   "outputs": [
    {
     "data": {
      "text/plain": [
       "(2429.9882389449695, 0.3808150711264898, 0.6191849288735102)"
      ]
     },
     "execution_count": 133,
     "metadata": {},
     "output_type": "execute_result"
    }
   ],
   "source": [
    "entropy(c2)"
   ]
  },
  {
   "cell_type": "markdown",
   "metadata": {},
   "source": [
    "# Maxwell's Demon - A second rule as a barrier\n",
    "\n",
    "CA will have various kinds of demons, each of whom do a specific kind of computation based on the preceding generation. Imagine a block of cells with different rule sandwiched between two worlds which follow rule 1."
   ]
  },
  {
   "cell_type": "code",
   "execution_count": 134,
   "metadata": {},
   "outputs": [],
   "source": [
    "#world1 with rule1\n",
    "canvas1 = np.zeros([rows,columns+2]) \n",
    "#seed world1\n",
    "canvas1[0,int(columns/2)+1] = 1 \n",
    "#pattern generation in world1\n",
    "c1 = pattern(canvas1,output_pattern1,rows,columns)\n",
    "\n"
   ]
  },
  {
   "cell_type": "markdown",
   "metadata": {},
   "source": [
    "# Create demon with n rows"
   ]
  },
  {
   "cell_type": "code",
   "execution_count": 135,
   "metadata": {},
   "outputs": [],
   "source": [
    "n=20\n",
    "#world2 with rule2\n",
    "demon = np.zeros([n,columns+2])\n",
    "#input to the demon comes from last generation of world1\n",
    "demon[0,:] = canvas1[rows-1,:]\n",
    "#Demon computes\n",
    "c2 = pattern(demon,output_pattern2,n,columns)\n"
   ]
  },
  {
   "cell_type": "markdown",
   "metadata": {},
   "source": [
    "Feed Demon into world3 with rule1"
   ]
  },
  {
   "cell_type": "code",
   "execution_count": 136,
   "metadata": {},
   "outputs": [],
   "source": [
    "#world3 with rule1 again\n",
    "canvas2 = np.zeros([rows,columns+2]) \n",
    "#seed world1 with output of demon\n",
    "canvas2[0,:] = demon[n-1,:]\n",
    "#pattern generation in world1\n",
    "c3 = pattern(canvas2,output_pattern1,rows,columns)\n"
   ]
  },
  {
   "cell_type": "code",
   "execution_count": 137,
   "metadata": {},
   "outputs": [],
   "source": [
    "universe = np.concatenate((c1,c2,c3),axis=0)"
   ]
  },
  {
   "cell_type": "code",
   "execution_count": 138,
   "metadata": {},
   "outputs": [
    {
     "data": {
      "image/png": "[encoded data removed]",
      "text/plain": [
       "<Figure size 432x288 with 3 Axes>"
      ]
     },
     "metadata": {},
     "output_type": "display_data"
    }
   ],
   "source": [
    "fig, axs = plt.subplots(3,sharex=True,gridspec_kw={'hspace': 0})\n",
    "b='Blues'\n",
    "axs[0].imshow(c1, cmap=b)\n",
    "axs[0].axis('off')\n",
    "axs[1].imshow(c2,cmap='Greys',aspect=rows/n)\n",
    "axs[1].axis('off')\n",
    "axs[2].imshow(c3,cmap='Reds')\n",
    "axs[2].axis('off')\n",
    "plt.show()"
   ]
  },
  {
   "cell_type": "code",
   "execution_count": 139,
   "metadata": {},
   "outputs": [],
   "source": [
    "h1 = entropy(c1)\n",
    "h2 = entropy(c2)"
   ]
  },
  {
   "cell_type": "code",
   "execution_count": 140,
   "metadata": {},
   "outputs": [
    {
     "data": {
      "text/plain": [
       "(2600.2105667907467, 0.5080738177623991, 0.49192618223760093)"
      ]
     },
     "execution_count": 140,
     "metadata": {},
     "output_type": "execute_result"
    }
   ],
   "source": [
    "h1"
   ]
  },
  {
   "cell_type": "code",
   "execution_count": 141,
   "metadata": {},
   "outputs": [
    {
     "data": {
      "text/plain": [
       "(822.3417719666598, 0.29411764705882354, 0.7058823529411765)"
      ]
     },
     "execution_count": 141,
     "metadata": {},
     "output_type": "execute_result"
    }
   ],
   "source": [
    "h2"
   ]
  },
  {
   "cell_type": "markdown",
   "metadata": {},
   "source": [
    "# Compute over different combinations of worlds"
   ]
  },
  {
   "cell_type": "code",
   "execution_count": 146,
   "metadata": {},
   "outputs": [
    {
     "name": "stderr",
     "output_type": "stream",
     "text": [
      "C:\\Users\\debay\\Anaconda3\\lib\\site-packages\\ipykernel_launcher.py:8: RuntimeWarning: divide by zero encountered in log10\n",
      "  \n",
      "C:\\Users\\debay\\Anaconda3\\lib\\site-packages\\ipykernel_launcher.py:8: RuntimeWarning: invalid value encountered in double_scalars\n",
      "  \n"
     ]
    },
    {
     "ename": "IndexError",
     "evalue": "index 700 is out of bounds for axis 0 with size 700",
     "output_type": "error",
     "traceback": [
      "\u001b[1;31m---------------------------------------------------------------------------\u001b[0m",
      "\u001b[1;31mIndexError\u001b[0m                                Traceback (most recent call last)",
      "\u001b[1;32m<ipython-input-146-b3c77c808e2f>\u001b[0m in \u001b[0;36m<module>\u001b[1;34m()\u001b[0m\n\u001b[0;32m     73\u001b[0m \u001b[1;33m\u001b[0m\u001b[0m\n\u001b[0;32m     74\u001b[0m \u001b[1;33m\u001b[0m\u001b[0m\n\u001b[1;32m---> 75\u001b[1;33m         \u001b[0mresult_array\u001b[0m\u001b[1;33m[\u001b[0m\u001b[0mcount\u001b[0m\u001b[1;33m]\u001b[0m \u001b[1;33m=\u001b[0m \u001b[1;33m[\u001b[0m\u001b[0mworld1\u001b[0m\u001b[1;33m,\u001b[0m\u001b[0mworld2\u001b[0m\u001b[1;33m,\u001b[0m\u001b[0mh1\u001b[0m\u001b[1;33m[\u001b[0m\u001b[1;36m0\u001b[0m\u001b[1;33m]\u001b[0m\u001b[1;33m,\u001b[0m\u001b[0mh2\u001b[0m\u001b[1;33m[\u001b[0m\u001b[1;36m0\u001b[0m\u001b[1;33m]\u001b[0m\u001b[1;33m]\u001b[0m\u001b[1;33m\u001b[0m\u001b[0m\n\u001b[0m\u001b[0;32m     76\u001b[0m         \u001b[0mcount\u001b[0m\u001b[1;33m=\u001b[0m\u001b[0mcount\u001b[0m\u001b[1;33m+\u001b[0m\u001b[1;36m1\u001b[0m\u001b[1;33m\u001b[0m\u001b[0m\n",
      "\u001b[1;31mIndexError\u001b[0m: index 700 is out of bounds for axis 0 with size 700"
     ]
    }
   ],
   "source": [
    "result_array = np.empty([700,4])\n",
    "count=0\n",
    "\n",
    "for world1 in class3:\n",
    "    for world2 in class2:\n",
    "        output_pattern1 = [int(x) for x in np.binary_repr(world1,width =8)]\n",
    "        output_pattern2 = [int(x) for x in np.binary_repr(world2,width =8)]\n",
    "        #world1\n",
    "        canvas1 = np.zeros([rows,columns+2]) \n",
    "        #seed world1\n",
    "        canvas1[0,int(columns/2)+1] = 1 \n",
    "        #create world1\n",
    "        c1 = pattern(canvas1,output_pattern1,rows,columns)\n",
    "        \n",
    "        n=20\n",
    "        #world2 with rule2\n",
    "        demon = np.zeros([n,columns+2])\n",
    "        #input to the demon comes from last generation of world1\n",
    "        demon[0,:] = canvas1[rows-1,:]\n",
    "        #Demon computes\n",
    "        c2 = pattern(demon,output_pattern2,n,columns)\n",
    "\n",
    "\n",
    "        #world3 with rule1 again\n",
    "        canvas2 = np.zeros([rows,columns+2]) \n",
    "        #seed world1 with output of demon\n",
    "        canvas2[0,:] = demon[n-1,:]\n",
    "        #pattern generation in world1\n",
    "        c3 = pattern(canvas2,output_pattern1,rows,columns)\n",
    "\n",
    "        \n",
    "        #create universe\n",
    "        #universe = np.concatenate((c1,c2,c3),axis=0)\n",
    "        \n",
    "        \n",
    "        #calculate entropy\n",
    "        h1 = entropy(c1)\n",
    "        h2 = entropy(c3)\n",
    "        \n",
    "        #plot universes\n",
    "        fig, axs = plt.subplots(3,sharex=True,gridspec_kw={'hspace': 0})\n",
    "        bcol='Blues'\n",
    "        rcol='Reds'\n",
    "        \n",
    "        if h2>h1:  #entropy increases after demon \n",
    "            axs[0].imshow(c1, cmap=bcol)\n",
    "            axs[0].axis('off')\n",
    "            axs[1].imshow(c2,cmap='Greys',aspect=rows/n)\n",
    "            axs[1].axis('off')\n",
    "            axs[2].imshow(c3,cmap=rcol)\n",
    "            axs[2].axis('off')\n",
    "        \n",
    "        elif h1>h2: #entropy decreases after demon\n",
    "            axs[0].imshow(c1, cmap=rcol)\n",
    "            axs[0].axis('off')\n",
    "            axs[1].imshow(c2,cmap='Greys',aspect=rows/n)\n",
    "            axs[1].axis('off')\n",
    "            axs[2].imshow(c3,cmap=bcol)\n",
    "            axs[2].axis('off')\n",
    "            \n",
    "        else:\n",
    "            axs[0].imshow(c1, cmap='Greys')\n",
    "            axs[0].axis('off')\n",
    "            axs[1].imshow(c2,cmap='Greys',aspect=rows/n)\n",
    "            axs[1].axis('off')\n",
    "            axs[2].imshow(c3,cmap='Greys')\n",
    "            axs[2].axis('off')\n",
    "            \n",
    "        \n",
    "        plt.savefig('demon'+str(world2)+'_'+str(world1)+'.png')\n",
    "        plt.close(fig)\n",
    "\n",
    "        \n",
    "                \n",
    "        result_array[count] = [world1,world2,h1[0],h2[0]]\n",
    "        count=count+1\n",
    "\n"
   ]
  },
  {
   "cell_type": "code",
   "execution_count": null,
   "metadata": {},
   "outputs": [],
   "source": []
  },
  {
   "cell_type": "code",
   "execution_count": null,
   "metadata": {},
   "outputs": [],
   "source": []
  },
  {
   "cell_type": "code",
   "execution_count": null,
   "metadata": {},
   "outputs": [],
   "source": []
  }
 ],
 "metadata": {
  "kernelspec": {
   "display_name": "Python 3",
   "language": "python",
   "name": "python3"
  },
  "language_info": {
   "codemirror_mode": {
    "name": "ipython",
    "version": 3
   },
   "file_extension": ".py",
   "mimetype": "text/x-python",
   "name": "python",
   "nbconvert_exporter": "python",
   "pygments_lexer": "ipython3",
   "version": "3.6.5"
  }
 },
 "nbformat": 4,
 "nbformat_minor": 2
}
